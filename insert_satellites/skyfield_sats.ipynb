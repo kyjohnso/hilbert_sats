{
 "cells": [
  {
   "cell_type": "code",
   "execution_count": 1,
   "id": "727af47e-83b7-4f27-9399-c71d64e6ed92",
   "metadata": {},
   "outputs": [],
   "source": [
    "from skyfield.api import load\n",
    "from skyfield.api import wgs84\n",
    "import numpy as np\n",
    "from hilbertcurve.hilbertcurve import HilbertCurve\n",
    "import psycopg2\n",
    "import os\n",
    "from datetime import datetime\n",
    "\n",
    "# Load TLE data\n",
    "def get_starlink_satellites(url=\"https://celestrak.org/NORAD/elements/gp.php?GROUP=starlink&FORMAT=tle\"):\n",
    "    print(\"Loading TLE data...\")\n",
    "    satellites = load.tle_file(url)\n",
    "    satellites = [{\"sat\":s} for s in satellites]\n",
    "    print(f\"Loaded {len(satellites)} Starlink satellites.\")\n",
    "    return satellites\n",
    "\n",
    "# Connect to the PostgreSQL database\n",
    "def connect_to_db():\n",
    "    conn = psycopg2.connect(\n",
    "        dbname=\"minecraftindex\",\n",
    "        user=\"kyjohnso\",\n",
    "        password=\"Password\",\n",
    "        host='localhost',  # Use the service name from docker-compose.yml\n",
    "        port=5432\n",
    "    )\n",
    "    return conn\n",
    "\n",
    "# Compute ECEF XYZ positions\n",
    "def compute_ecef_positions(satellites):\n",
    "    ts = load.timescale()\n",
    "    now = ts.now()\n",
    "\n",
    "    for sat in satellites:\n",
    "        try:\n",
    "            geocentric = sat[\"sat\"].at(now)\n",
    "            subpoint = wgs84.subpoint(geocentric)\n",
    "\n",
    "            # Get ECEF XYZ coordinates\n",
    "            sat.update({\n",
    "                \"scc\": sat[\"sat\"].model.satnum,\n",
    "                \"name\": sat[\"sat\"].name,\n",
    "                \"ecef\": geocentric.position.m,\n",
    "                \"timestamp\": now.utc_datetime()\n",
    "            })\n",
    "        except Exception as e:\n",
    "            print(f\"Error computing position for {sat.name}: {e}\")\n",
    "\n",
    "    return satellites\n",
    "\n",
    "# Insert satellite data into the database\n",
    "def ecef_points_to_hilbert(ecef,hilbert_dict):\n",
    "    \n",
    "    p=hilbert_dict.get(\"p\",np.ceil(np.log2(hilbert_dict[\"world_size\"]/hilbert_dict[\"cell_size\"])))\n",
    "    hilbert_dict[\"p\"] = p\n",
    "    ecef_scale = (\n",
    "        ecef + hilbert_dict[\"world_size\"]/2\n",
    "    )/hilbert_dict[\"cell_size\"]\n",
    "    ecef_scale_int = ecef_scale.astype(np.int64)\n",
    "\n",
    "    hilbert_curve = HilbertCurve(\n",
    "        n=hilbert_dict.get(\"n\",3),\n",
    "        p=p\n",
    "    )\n",
    "\n",
    "    return hilbert_curve.distances_from_points(ecef_scale_int)\n",
    "\n",
    "def hilbert_to_ecef_points(hilbert,hilbert_dict):\n",
    "    p=hilbert_dict.get(\"p\",np.ceil(np.log2(hilbert_dict[\"world_size\"]/hilbert_dict[\"cell_size\"])))\n",
    "    \n",
    "    hilbert_curve = HilbertCurve(\n",
    "        n=hilbert_dict.get(\"n\",3),\n",
    "        p=p\n",
    "    )\n",
    "    \n",
    "    ecef_scale = hilbert_curve.points_from_distances(hilbert)\n",
    "\n",
    "    return np.array(ecef_scale) * hilbert_dict[\"cell_size\"] - hilbert_dict[\"world_size\"]/2\n",
    "\n",
    "def add_hilbert_to_satellites(satellites,hilbert):\n",
    "    for i in range(len(satellites)):\n",
    "        satellites[i][\"hilbert_index\"]=hilbert[i]\n",
    "    return satellites\n",
    "\n",
    "def create_satellites_table(conn):\n",
    "    cursor = conn.cursor()\n",
    "\n",
    "    # Create the table if it doesn't exist\n",
    "    cursor.execute(\"\"\"\n",
    "        CREATE TABLE IF NOT EXISTS satellites (\n",
    "            id SERIAL PRIMARY KEY,                   -- Auto-incrementing primary key\n",
    "            satnum INT NOT NULL,                     -- Satellite number (cannot be NULL)\n",
    "            ecef GEOMETRY(POINTZ, 4978) NOT NULL,    -- 3D ECEF coordinates (cannot be NULL)\n",
    "            observation_time TIMESTAMP NOT NULL,     -- Observation timestamp (cannot be NULL)\n",
    "            name TEXT NOT NULL,                      -- Satellite name (cannot be NULL)\n",
    "            hilbert_index BIGINT NOT NULL,           -- Hilbert curve index (cannot be NULL),\n",
    "            CONSTRAINT satnum_time_hilbert_unique UNIQUE (satnum, observation_time, hilbert_index) -- Optional uniqueness constraint\n",
    "        );\n",
    "    \"\"\")\n",
    "    conn.commit()\n",
    "    cursor.execute(\"\"\"\n",
    "            CREATE INDEX IF NOT EXISTS satnum_time_idx_compound\n",
    "            ON satellites (satnum, observation_time, hilbert_index);\n",
    "    \"\"\")\n",
    "    conn.commit()\n",
    "    cursor.execute(\"\"\"\n",
    "            CREATE INDEX IF NOT EXISTS time_idx_compound\n",
    "            ON satellites (observation_time, hilbert_index);\n",
    "    \"\"\")\n",
    "    conn.commit()\n",
    "    cursor.execute(\"\"\"\n",
    "            CREATE INDEX IF NOT EXISTS satnum_idx_compound\n",
    "            ON satellites (satnum, hilbert_index);\n",
    "    \"\"\")\n",
    "    conn.commit()\n",
    "    cursor.execute(\"\"\"\n",
    "            CREATE INDEX IF NOT EXISTS idx\n",
    "            ON satellites (hilbert_index);\n",
    "    \"\"\")\n",
    "    conn.commit()\n",
    "\n",
    "def drop_satellites_table(connection):\n",
    "    \"\"\"\n",
    "    Drops the satellites table if it exists in a PostgreSQL database.\n",
    "\n",
    "    Args:\n",
    "        connection (psycopg2.extensions.connection): Active database connection.\n",
    "\n",
    "    Returns:\n",
    "        None\n",
    "    \"\"\"\n",
    "    drop_table_query = \"DROP TABLE IF EXISTS satellites CASCADE;\"\n",
    "    \n",
    "    try:\n",
    "        with connection.cursor() as cursor:\n",
    "            # Execute the drop table query\n",
    "            cursor.execute(drop_table_query)\n",
    "            # Commit the transaction\n",
    "            connection.commit()\n",
    "            print(\"Satellites table dropped successfully.\")\n",
    "    except Exception as e:\n",
    "        connection.rollback()\n",
    "        print(f\"Error dropping satellites table: {e}\")\n",
    "\n",
    "def create_hilbert_points_table(connection):\n",
    "    \"\"\"\n",
    "    Creates the hilbert_points table with hilbert_index as the primary key\n",
    "    and a corresponding 3D point entry.\n",
    "\n",
    "    Args:\n",
    "        connection (psycopg2.extensions.connection): Active database connection.\n",
    "\n",
    "    Returns:\n",
    "        None\n",
    "    \"\"\"\n",
    "    create_table_query = \"\"\"\n",
    "    CREATE TABLE IF NOT EXISTS hilbert_points (\n",
    "        hilbert_index BIGINT PRIMARY KEY,       -- Hilbert index as the primary key\n",
    "        point GEOMETRY(POINTZ, 4978) NOT NULL  -- 3D point (ECEF coordinates) with SRID 4978\n",
    "    );\n",
    "    \"\"\"\n",
    "    try:\n",
    "        with connection.cursor() as cursor:\n",
    "            # Execute the create table query\n",
    "            cursor.execute(create_table_query)\n",
    "            # Commit the transaction\n",
    "            connection.commit()\n",
    "            print(\"Hilbert points table created successfully.\")\n",
    "    except Exception as e:\n",
    "        connection.rollback()\n",
    "        print(f\"Error creating hilbert points table: {e}\")\n",
    "\n",
    "def drop_hilbert_points_table(connection):\n",
    "    \"\"\"\n",
    "    Drops the hilbert_points table if it exists in the database.\n",
    "\n",
    "    Args:\n",
    "        connection (psycopg2.extensions.connection): Active database connection.\n",
    "\n",
    "    Returns:\n",
    "        None\n",
    "    \"\"\"\n",
    "    drop_table_query = \"DROP TABLE IF EXISTS hilbert_points CASCADE;\"\n",
    "    \n",
    "    try:\n",
    "        with connection.cursor() as cursor:\n",
    "            # Execute the drop table query\n",
    "            cursor.execute(drop_table_query)\n",
    "            # Commit the transaction\n",
    "            connection.commit()\n",
    "            print(\"Hilbert points table dropped successfully.\")\n",
    "    except Exception as e:\n",
    "        connection.rollback()\n",
    "        print(f\"Error dropping hilbert points table: {e}\")\n",
    "\n",
    "def insert_hilbert_points(hilbert_points, connection):\n",
    "    \"\"\"\n",
    "    Inserts a list of hilbert points into the hilbert_points table.\n",
    "\n",
    "    Args:\n",
    "        connection (psycopg2.extensions.connection): Active database connection.\n",
    "        hilbert_points (list of dict): List of dictionaries containing:\n",
    "            - hilbert (int): Hilbert index.\n",
    "            - ecef (tuple): Tuple of ECEF coordinates (x, y, z) in meters.\n",
    "\n",
    "    Returns:\n",
    "        None\n",
    "    \"\"\"\n",
    "    insert_query = \"\"\"\n",
    "    INSERT INTO hilbert_points (hilbert_index, point)\n",
    "    VALUES (%s, ST_SetSRID(ST_MakePoint(%s, %s, %s), 4978))\n",
    "    ON CONFLICT (hilbert_index) DO NOTHING;\n",
    "    \"\"\"\n",
    "    try:\n",
    "        with connection.cursor() as cursor:\n",
    "            # Prepare data for batch insertion\n",
    "            data = [\n",
    "                (\n",
    "                    point[\"hilbert\"], \n",
    "                    str(point[\"ecef\"][0]), \n",
    "                    str(point[\"ecef\"][1]), \n",
    "                    str(point[\"ecef\"][2]),\n",
    "                )\n",
    "                for point in hilbert_points\n",
    "            ]\n",
    "            # Execute batch insertion\n",
    "            cursor.executemany(insert_query, data)\n",
    "            # Commit the transaction\n",
    "            connection.commit()\n",
    "            print(f\"{len(hilbert_points)} hilbert points inserted successfully.\")\n",
    "    except Exception as e:\n",
    "        connection.rollback()\n",
    "        print(f\"Error inserting hilbert points: {e}\")\n",
    "\n",
    "\n",
    "def insert_satellites(satellites, connection):\n",
    "\n",
    "    with connection.cursor() as cursor:\n",
    "        # Insert the data\n",
    "        for sat in satellites:\n",
    "            insert_query = \"\"\"\n",
    "                INSERT INTO satellites (satnum, ecef, observation_time, name, hilbert_index)\n",
    "                VALUES (%s, ST_SetSRID(ST_MakePoint(%s, %s, %s), 4978), %s, %s, %s);\n",
    "                \"\"\"\n",
    "            cursor.execute(\n",
    "                insert_query, \n",
    "                (\n",
    "                    sat[\"scc\"], \n",
    "                    str(sat[\"ecef\"][0]), \n",
    "                    str(sat[\"ecef\"][1]), \n",
    "                    str(sat[\"ecef\"][2]), \n",
    "                    sat[\"timestamp\"], \n",
    "                    sat[\"name\"], \n",
    "                    sat[\"hilbert_index\"],\n",
    "                )\n",
    "            )\n",
    "        connection.commit()\n",
    "    cursor.close()\n",
    "    print(\"Satellite data inserted into the database.\")\n",
    "\n",
    "def main():\n",
    "    # Load satellite data\n",
    "    sats = get_starlink_satellites()\n",
    "\n",
    "    # Compute ECEF positions\n",
    "    sats = compute_ecef_positions(sats)\n",
    "\n",
    "    # compute hilbert index\n",
    "    world_size = 80_000_000\n",
    "    cell_size= 10_000\n",
    "    \n",
    "    hilbert_dict = {\n",
    "        \"world_size\":world_size,\n",
    "        \"cell_size\":cell_size,\n",
    "        \"n\":3,\n",
    "    }\n",
    "    hilbert = ecef_points_to_hilbert(np.array([s[\"ecef\"] for s in sats]),hilbert_dict)\n",
    "    sats = add_hilbert_to_satellites(sats,hilbert)\n",
    "\n",
    "    hilbert_ecef = hilbert_to_ecef_points(hilbert,hilbert_dict)\n",
    "    hilbert_points = [{\"hilbert\":hilbert[i],\"ecef\":hilbert_ecef[i]} for i in range(len(hilbert))]\n",
    "    \n",
    "    # Connect to the database\n",
    "    conn = connect_to_db()\n",
    "\n",
    "    # Insert hilbert index into the database\n",
    "    insert_hilbert_points(hilbert_points,conn)\n",
    "    \n",
    "    # Insert data into the database\n",
    "    insert_satellites(sats, conn)\n",
    "\n",
    "    # Close the connection\n",
    "    conn.close()"
   ]
  },
  {
   "cell_type": "code",
   "execution_count": 3,
   "id": "bc468e03-98bb-4ba6-9177-9be3891ecd3e",
   "metadata": {},
   "outputs": [],
   "source": [
    "def query_hilbert_points(connection, query_vector):\n",
    "    \"\"\"\n",
    "    Query the database to find hilbert_index values where the dot product\n",
    "    of (point - query_vector) with query_vector is positive.\n",
    "\n",
    "    Args:\n",
    "        connection: psycopg2 connection object.\n",
    "        query_vector: Tuple of (x, y, z) coordinates for the query vector.\n",
    "\n",
    "    Returns:\n",
    "        List of hilbert_index values.\n",
    "    \"\"\"\n",
    "    query = \"\"\"\n",
    "        WITH query_vector AS (\n",
    "            SELECT %s AS x, %s AS y, %s AS z  -- Query vector components\n",
    "        ),\n",
    "        dot_product_results AS (\n",
    "            SELECT \n",
    "                hilbert_index,\n",
    "                (\n",
    "                    (ST_X(point) - query_vector.x) * query_vector.x +\n",
    "                    (ST_Y(point) - query_vector.y) * query_vector.y +\n",
    "                    (ST_Z(point) - query_vector.z) * query_vector.z\n",
    "                ) AS dot_product\n",
    "            FROM hilbert_points, query_vector\n",
    "        )\n",
    "        SELECT hilbert_index\n",
    "        FROM dot_product_results\n",
    "        WHERE dot_product > 0;\n",
    "    \"\"\"\n",
    "    x, y, z = query_vector\n",
    "    with connection.cursor() as cursor:\n",
    "        cursor.execute(query, (x, y, z))\n",
    "        results = cursor.fetchall()\n",
    "    return [row[0] for row in results]"
   ]
  },
  {
   "cell_type": "code",
   "execution_count": 44,
   "id": "17a43d31-6b52-4719-b7a7-3b7a04d93dda",
   "metadata": {},
   "outputs": [],
   "source": [
    "def query_by_hilbert_index(hilbert_indices,connection):\n",
    "    cursor = connection.cursor()\n",
    "    \n",
    "    # Create the SQL query\n",
    "    query = \"\"\"\n",
    "        SELECT *\n",
    "        FROM satellites\n",
    "        WHERE hilbert_index = ANY(%s);\n",
    "    \"\"\"\n",
    "    \n",
    "    # Execute the query with the list of indices\n",
    "    cursor.execute(query, (hilbert_indices,))\n",
    "    \n",
    "    # Fetch all matching rows\n",
    "    results = cursor.fetchall()\n",
    "\n",
    "    cursor.close()\n",
    "\n",
    "    return results"
   ]
  },
  {
   "cell_type": "code",
   "execution_count": 58,
   "id": "d12d4c63-9f47-4113-999c-52fc45493d78",
   "metadata": {},
   "outputs": [],
   "source": [
    "def query_with_temp_table(hilbert_indices, conn):\n",
    "    \"\"\"\n",
    "    Creates a temporary table, populates it with hilbert_index values, and performs a join\n",
    "    with the satellites table to fetch matching rows.\n",
    "    \"\"\"\n",
    "    try:\n",
    "        cursor = conn.cursor()\n",
    "\n",
    "        # Drop the temporary table if it exists\n",
    "        cursor.execute(\"DROP TABLE IF EXISTS temp_hilbert_indices;\")\n",
    "        \n",
    "        # Create a temporary table\n",
    "        cursor.execute(\"\"\"\n",
    "            CREATE TEMPORARY TABLE temp_hilbert_indices (\n",
    "                hilbert_index BIGINT\n",
    "            ) ON COMMIT DROP;\n",
    "        \"\"\")\n",
    "        \n",
    "        # Insert hilbert_index values into the temporary table\n",
    "        insert_query = \"INSERT INTO temp_hilbert_indices (hilbert_index) VALUES (%s)\"\n",
    "        cursor.executemany(insert_query, [(index,) for index in hilbert_indices])\n",
    "        \n",
    "        # Perform the join query\n",
    "        query = \"\"\"\n",
    "            SELECT s.*\n",
    "            FROM satellites s\n",
    "            INNER JOIN temp_hilbert_indices t\n",
    "            ON s.hilbert_index = t.hilbert_index;\n",
    "        \"\"\"\n",
    "        cursor.execute(query)\n",
    "        \n",
    "        # Fetch the results\n",
    "        results = cursor.fetchall()\n",
    "\n",
    "        # Clean up\n",
    "        cursor.close()\n",
    "\n",
    "        return results\n",
    "\n",
    "    except Exception as e:\n",
    "        print(f\"An error occurred: {e}\")\n",
    "        if cursor:\n",
    "            cursor.close()\n",
    "        raise\n"
   ]
  },
  {
   "cell_type": "code",
   "execution_count": 62,
   "id": "f6373a4d-2aec-4dff-9cf0-ab72421e672b",
   "metadata": {},
   "outputs": [],
   "source": [
    "def query_with_temp_table_indexed(hilbert_indices, conn):\n",
    "    \"\"\"\n",
    "    Creates a temporary table with an index on hilbert_index, populates it, \n",
    "    and performs a join with the satellites table to fetch matching rows.\n",
    "    \"\"\"\n",
    "    try:\n",
    "        cursor = conn.cursor()\n",
    "\n",
    "        # Drop the temporary table if it exists\n",
    "        cursor.execute(\"DROP TABLE IF EXISTS temp_hilbert_indices;\")\n",
    "        \n",
    "        # Create a temporary table\n",
    "        cursor.execute(\"\"\"\n",
    "            CREATE TEMPORARY TABLE temp_hilbert_indices (\n",
    "                hilbert_index BIGINT\n",
    "            ) ON COMMIT DROP;\n",
    "        \"\"\")\n",
    "\n",
    "        # Create an index on hilbert_index in the temporary table\n",
    "        cursor.execute(\"\"\"\n",
    "            CREATE INDEX temp_hilbert_index_idx ON temp_hilbert_indices (hilbert_index);\n",
    "        \"\"\")\n",
    "        \n",
    "        # Insert hilbert_index values into the temporary table\n",
    "        insert_query = \"INSERT INTO temp_hilbert_indices (hilbert_index) VALUES (%s)\"\n",
    "        cursor.executemany(insert_query, [(index,) for index in hilbert_indices])\n",
    "        \n",
    "        # Perform the join query\n",
    "        query = \"\"\"\n",
    "            SELECT s.*\n",
    "            FROM satellites s\n",
    "            INNER JOIN temp_hilbert_indices t\n",
    "            ON s.hilbert_index = t.hilbert_index;\n",
    "        \"\"\"\n",
    "        cursor.execute(query)\n",
    "        \n",
    "        # Fetch the results\n",
    "        results = cursor.fetchall()\n",
    "\n",
    "        # Clean up\n",
    "        cursor.close()\n",
    "\n",
    "        return results\n",
    "\n",
    "    except Exception as e:\n",
    "        print(f\"An error occurred: {e}\")\n",
    "        if cursor:\n",
    "            cursor.close()\n",
    "        raise\n"
   ]
  },
  {
   "cell_type": "code",
   "execution_count": 60,
   "id": "ccc62aba-7a35-4df8-bf9e-2ec0168c99d0",
   "metadata": {},
   "outputs": [],
   "source": [
    "conn = connect_to_db()"
   ]
  },
  {
   "cell_type": "code",
   "execution_count": 55,
   "id": "e3f59ef3-e3c5-441e-9b45-73458240262c",
   "metadata": {},
   "outputs": [
    {
     "data": {
      "text/plain": [
       "6223"
      ]
     },
     "execution_count": 55,
     "metadata": {},
     "output_type": "execute_result"
    }
   ],
   "source": [
    "sub_idx = query_hilbert_points(conn, [6000000,10000,2000000])\n",
    "len(sub_idx)"
   ]
  },
  {
   "cell_type": "code",
   "execution_count": 64,
   "id": "a2a25701-9b2a-4f73-b11d-f3282c66aae4",
   "metadata": {
    "scrolled": true
   },
   "outputs": [],
   "source": [
    "sub_idx = sorted(sub_idx)"
   ]
  },
  {
   "cell_type": "code",
   "execution_count": 41,
   "id": "46d383fd-69af-4528-9373-4f88cf850d0a",
   "metadata": {},
   "outputs": [
    {
     "data": {
      "text/plain": [
       "10960"
      ]
     },
     "execution_count": 41,
     "metadata": {},
     "output_type": "execute_result"
    }
   ],
   "source": [
    "len(sub_idx)"
   ]
  },
  {
   "cell_type": "code",
   "execution_count": 42,
   "id": "d3f64c29-f843-4376-8bc2-9ae3a0c24b52",
   "metadata": {},
   "outputs": [
    {
     "data": {
      "text/plain": [
       "10960"
      ]
     },
     "execution_count": 42,
     "metadata": {},
     "output_type": "execute_result"
    }
   ],
   "source": [
    "len(set(sub_idx))"
   ]
  },
  {
   "cell_type": "code",
   "execution_count": 56,
   "id": "87b0febb-a317-4fbc-90ad-01e55b583c50",
   "metadata": {},
   "outputs": [
    {
     "name": "stdout",
     "output_type": "stream",
     "text": [
      "3.58 s ± 90.4 ms per loop (mean ± std. dev. of 7 runs, 1 loop each)\n"
     ]
    }
   ],
   "source": [
    "%%timeit\n",
    "rows = query_by_hilbert_index(sub_idx, conn)"
   ]
  },
  {
   "cell_type": "code",
   "execution_count": 61,
   "id": "4ecfce1f-a5e5-471e-9b09-22d4b182a7bf",
   "metadata": {},
   "outputs": [
    {
     "name": "stdout",
     "output_type": "stream",
     "text": [
      "3.18 s ± 61.1 ms per loop (mean ± std. dev. of 7 runs, 1 loop each)\n"
     ]
    }
   ],
   "source": [
    "%%timeit\n",
    "rows_join = query_with_temp_table(sub_idx, conn)"
   ]
  },
  {
   "cell_type": "code",
   "execution_count": 66,
   "id": "d4859376-4ded-4634-86cc-d49356490004",
   "metadata": {},
   "outputs": [],
   "source": [
    "rows_join_index = query_with_temp_table_indexed(sub_idx, conn)"
   ]
  },
  {
   "cell_type": "code",
   "execution_count": 69,
   "id": "ec83fff6-e1d5-4dde-a1b2-fcf397c1da72",
   "metadata": {},
   "outputs": [
    {
     "data": {
      "text/plain": [
       "879470"
      ]
     },
     "execution_count": 69,
     "metadata": {},
     "output_type": "execute_result"
    }
   ],
   "source": [
    "len(rows_join_index)"
   ]
  },
  {
   "cell_type": "code",
   "execution_count": 74,
   "id": "0d804e5a-8068-4e32-9f1a-68f8066614a8",
   "metadata": {},
   "outputs": [],
   "source": [
    "config = {\n",
    "    \"hilbert\":hilbert_dict,\n",
    "    \"postgis\":{\n",
    "        \"dbname\":\"minecraftindex\",\n",
    "        \"user\":\"kyjohnso\",\n",
    "        \"password\":\"Password\",\n",
    "        \"host\":'localhost',  # change to postgis if running in a container\n",
    "        \"port\":5432,\n",
    "    },\n",
    "    \"satellite\":{\n",
    "        \"tle_url\":\"https://celestrak.org/NORAD/elements/gp.php?GROUP=starlink&FORMAT=tle\",\n",
    "        \"query_interval_seconds\":10,\n",
    "    }\n",
    "}  "
   ]
  },
  {
   "cell_type": "code",
   "execution_count": 80,
   "id": "f2b529c4-99f5-485c-809b-8f85947fbacf",
   "metadata": {},
   "outputs": [
    {
     "ename": "ModuleNotFoundError",
     "evalue": "No module named 'pytz'",
     "output_type": "error",
     "traceback": [
      "\u001b[0;31m---------------------------------------------------------------------------\u001b[0m",
      "\u001b[0;31mModuleNotFoundError\u001b[0m                       Traceback (most recent call last)",
      "Cell \u001b[0;32mIn[80], line 1\u001b[0m\n\u001b[0;32m----> 1\u001b[0m \u001b[38;5;28;01mimport\u001b[39;00m \u001b[38;5;21;01mdatetime\u001b[39;00m\u001b[38;5;241m,\u001b[39m \u001b[38;5;21;01mpytz\u001b[39;00m\n",
      "\u001b[0;31mModuleNotFoundError\u001b[0m: No module named 'pytz'"
     ]
    }
   ],
   "source": [
    "import datetime, pytz"
   ]
  },
  {
   "cell_type": "code",
   "execution_count": 81,
   "id": "f7dd3bff-e96d-43d0-bb4b-e8a3e87d483f",
   "metadata": {},
   "outputs": [
    {
     "data": {
      "text/plain": [
       "datetime.datetime(2024, 5, 5, 0, 0, tzinfo=datetime.timezone.utc)"
      ]
     },
     "execution_count": 81,
     "metadata": {},
     "output_type": "execute_result"
    }
   ],
   "source": [
    "datetime.datetime(2024,5,5).replace(tzinfo=datetime.UTC)"
   ]
  },
  {
   "cell_type": "code",
   "execution_count": 76,
   "id": "df45cec7-84a8-4d5e-b483-1223cd904aba",
   "metadata": {},
   "outputs": [
    {
     "data": {
      "text/plain": [
       "800.0"
      ]
     },
     "execution_count": 76,
     "metadata": {},
     "output_type": "execute_result"
    }
   ],
   "source": [
    "80000000/100000"
   ]
  },
  {
   "cell_type": "code",
   "execution_count": 75,
   "id": "02a6f738-8577-465b-90db-73ce9d92bc0e",
   "metadata": {},
   "outputs": [],
   "source": [
    "import yaml\n",
    "with open(\"./starlink_config.yml\",\"w\") as f:\n",
    "    f.write(\n",
    "        yaml.safe_dump(config)\n",
    "    )\n"
   ]
  },
  {
   "cell_type": "code",
   "execution_count": null,
   "id": "4ac3b872-401a-4ec1-b8f9-63345cc60b6b",
   "metadata": {},
   "outputs": [],
   "source": [
    "sats = get_starlink_satellites()"
   ]
  },
  {
   "cell_type": "code",
   "execution_count": null,
   "id": "dba680a4-53bf-4bb0-a3ec-e789f23dc732",
   "metadata": {},
   "outputs": [],
   "source": [
    "sats[0]"
   ]
  },
  {
   "cell_type": "code",
   "execution_count": null,
   "id": "cb71534d-4b97-48cf-9dcb-179fe7faf494",
   "metadata": {
    "scrolled": true
   },
   "outputs": [],
   "source": [
    "sats = compute_ecef_positions(sats)\n",
    "sats[0]"
   ]
  },
  {
   "cell_type": "code",
   "execution_count": 15,
   "id": "9e740245-c4c9-4118-8946-5a44bb9d23cf",
   "metadata": {},
   "outputs": [
    {
     "data": {
      "text/plain": [
       "np.float64(10.0)"
      ]
     },
     "execution_count": 15,
     "metadata": {},
     "output_type": "execute_result"
    }
   ],
   "source": [
    "world_size = 80_000_000\n",
    "cell_size= 100_000\n",
    "\n",
    "hilbert_dict = {\n",
    "    \"world_size\":world_size,\n",
    "    \"cell_size\":cell_size,\n",
    "    \"n\":3,\n",
    "}\n",
    "np.ceil(np.log2(hilbert_dict[\"world_size\"]/hilbert_dict[\"cell_size\"]))\n",
    "# hilbert_dict"
   ]
  },
  {
   "cell_type": "code",
   "execution_count": 19,
   "id": "af64b0fd-a514-4050-8931-f4ef59f073db",
   "metadata": {},
   "outputs": [
    {
     "data": {
      "text/plain": [
       "350402.625"
      ]
     },
     "execution_count": 19,
     "metadata": {},
     "output_type": "execute_result"
    }
   ],
   "source": [
    "((350000+6700000)/100000)**3"
   ]
  },
  {
   "cell_type": "code",
   "execution_count": null,
   "id": "9b2ee2d0-0bdf-4927-be2c-72d9226c10c1",
   "metadata": {},
   "outputs": [],
   "source": [
    "hilbert = ecef_points_to_hilbert(np.array([s[\"ecef\"] for s in sats]),hilbert_dict)"
   ]
  },
  {
   "cell_type": "code",
   "execution_count": null,
   "id": "17ddd0e3-252b-464d-b08c-44411dd48194",
   "metadata": {},
   "outputs": [],
   "source": [
    "hilbert_ecef = hilbert_to_ecef_points(hilbert,hilbert_dict)\n",
    "hilbert_points = [{\"hilbert\":hilbert[i],\"ecef\":hilbert_ecef[i]} for i in range(len(hilbert))]\n",
    "hilbert_points[0]"
   ]
  },
  {
   "cell_type": "code",
   "execution_count": null,
   "id": "be7bbe3a-e2da-4644-96d8-4579cdc644a8",
   "metadata": {},
   "outputs": [],
   "source": [
    "sats = add_hilbert_to_satellites(sats,hilbert)\n",
    "sats[0]"
   ]
  },
  {
   "cell_type": "code",
   "execution_count": 22,
   "id": "fb951fa1-a69f-4f67-b03e-6496fe558db9",
   "metadata": {
    "scrolled": true
   },
   "outputs": [
    {
     "name": "stdout",
     "output_type": "stream",
     "text": [
      "Hilbert points table created successfully.\n"
     ]
    }
   ],
   "source": [
    "create_satellites_table(conn)\n",
    "create_hilbert_points_table(conn)"
   ]
  },
  {
   "cell_type": "code",
   "execution_count": 21,
   "id": "e6edb70e-8994-4792-9f85-58d6bd638545",
   "metadata": {},
   "outputs": [
    {
     "name": "stdout",
     "output_type": "stream",
     "text": [
      "Satellites table dropped successfully.\n",
      "Hilbert points table dropped successfully.\n"
     ]
    }
   ],
   "source": [
    "drop_satellites_table(conn)\n",
    "drop_hilbert_points_table(conn)"
   ]
  },
  {
   "cell_type": "code",
   "execution_count": null,
   "id": "40bba4ad-5601-4673-917a-372f2b08e545",
   "metadata": {},
   "outputs": [],
   "source": [
    "insert_hilbert_points(hilbert_points,conn)"
   ]
  },
  {
   "cell_type": "code",
   "execution_count": null,
   "id": "afa6fbf9-b083-453d-8409-78f2e406cc94",
   "metadata": {},
   "outputs": [],
   "source": [
    "len(hilbert_points)"
   ]
  },
  {
   "cell_type": "code",
   "execution_count": null,
   "id": "8bafd5d9-09af-41a9-aea7-f17655511ae4",
   "metadata": {},
   "outputs": [],
   "source": [
    "query = f\"SELECT COUNT(*) FROM hilbert_points;\"\n",
    "cursor = conn.cursor()\n",
    "cursor.execute(query)\n",
    "cursor.fetchone()"
   ]
  },
  {
   "cell_type": "code",
   "execution_count": null,
   "id": "b90b2fb3-a5cb-4af9-a766-a19046b736b8",
   "metadata": {},
   "outputs": [],
   "source": [
    "insert_satellites(sats,conn)"
   ]
  },
  {
   "cell_type": "code",
   "execution_count": null,
   "id": "4a916be6-117f-43ba-9bd6-633fa02bd909",
   "metadata": {},
   "outputs": [],
   "source": [
    "query = f\"SELECT COUNT(*) FROM satellites;\"\n",
    "cursor = conn.cursor()\n",
    "cursor.execute(query)\n",
    "cursor.fetchone()"
   ]
  },
  {
   "cell_type": "code",
   "execution_count": null,
   "id": "ab9b3989-acde-4456-a0c7-a3ddc469ab7b",
   "metadata": {},
   "outputs": [],
   "source": [
    "len(sats)"
   ]
  },
  {
   "cell_type": "code",
   "execution_count": null,
   "id": "cc2fec60-e65c-4f90-9f1a-202da4ee87a5",
   "metadata": {},
   "outputs": [],
   "source": []
  }
 ],
 "metadata": {
  "kernelspec": {
   "display_name": "Python 3 (ipykernel)",
   "language": "python",
   "name": "python3"
  },
  "language_info": {
   "codemirror_mode": {
    "name": "ipython",
    "version": 3
   },
   "file_extension": ".py",
   "mimetype": "text/x-python",
   "name": "python",
   "nbconvert_exporter": "python",
   "pygments_lexer": "ipython3",
   "version": "3.11.0rc1"
  }
 },
 "nbformat": 4,
 "nbformat_minor": 5
}
